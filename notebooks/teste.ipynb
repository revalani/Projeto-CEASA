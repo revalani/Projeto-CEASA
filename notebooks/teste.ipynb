{
 "cells": [
  {
   "cell_type": "markdown",
   "metadata": {},
   "source": [
    "- Similaridade por cosseno"
   ]
  },
  {
   "cell_type": "code",
   "execution_count": 12,
   "metadata": {},
   "outputs": [
    {
     "data": {
      "text/plain": [
       "440"
      ]
     },
     "execution_count": 12,
     "metadata": {},
     "output_type": "execute_result"
    }
   ],
   "source": [
    "import pandas as pd\n",
    "\n",
    "\n",
    "URL_CEASA   = 'https://www.ceasa.rj.gov.br'\n",
    "URL_CEASA_cotacao   = URL_CEASA + '/Cota%C3%A7%C3%A3o'\n",
    "\n",
    "PASTA_DADOS = \"../dados/\"\n",
    "PASTA_PDFs  = \"../dados/pdfs/\"\n",
    "\n",
    "ceasa_lista_pdf = PASTA_DADOS + \"ceasa_lista_pdf.parquet\"\n",
    "\n",
    "df = pd.read_parquet(ceasa_lista_pdf)\n",
    "\n",
    "df2 = df['URL'].drop_duplicates().to_list()\n",
    "len(df2)\n"
   ]
  },
  {
   "cell_type": "code",
   "execution_count": 41,
   "metadata": {},
   "outputs": [
    {
     "data": {
      "text/html": [
       "<div>\n",
       "<style scoped>\n",
       "    .dataframe tbody tr th:only-of-type {\n",
       "        vertical-align: middle;\n",
       "    }\n",
       "\n",
       "    .dataframe tbody tr th {\n",
       "        vertical-align: top;\n",
       "    }\n",
       "\n",
       "    .dataframe thead th {\n",
       "        text-align: right;\n",
       "    }\n",
       "</style>\n",
       "<table border=\"1\" class=\"dataframe\">\n",
       "  <thead>\n",
       "    <tr style=\"text-align: right;\">\n",
       "      <th></th>\n",
       "      <th>0</th>\n",
       "    </tr>\n",
       "  </thead>\n",
       "  <tbody>\n",
       "    <tr>\n",
       "      <th>0</th>\n",
       "      <td>b</td>\n",
       "    </tr>\n",
       "    <tr>\n",
       "      <th>1</th>\n",
       "      <td>[c, cc]</td>\n",
       "    </tr>\n",
       "    <tr>\n",
       "      <th>2</th>\n",
       "      <td>a</td>\n",
       "    </tr>\n",
       "    <tr>\n",
       "      <th>3</th>\n",
       "      <td>[b, bb]</td>\n",
       "    </tr>\n",
       "    <tr>\n",
       "      <th>4</th>\n",
       "      <td>[c, cc]</td>\n",
       "    </tr>\n",
       "  </tbody>\n",
       "</table>\n",
       "</div>"
      ],
      "text/plain": [
       "         0\n",
       "0        b\n",
       "1  [c, cc]\n",
       "2        a\n",
       "3  [b, bb]\n",
       "4  [c, cc]"
      ]
     },
     "execution_count": 41,
     "metadata": {},
     "output_type": "execute_result"
    }
   ],
   "source": [
    "import pandas as pd\n",
    "\n",
    "minha_lista = [ \"a\",'b', \"c\", \"\", \"d\", \"a\",'b','c']\n",
    "for index, i in enumerate(minha_lista):\n",
    "    if i not in {'a','d'}:\n",
    "        minha_lista[index] = [i,F'{i*2}']\n",
    "    else:\n",
    "        minha_lista.pop(index)\n",
    "\n",
    "# b = ['a','d']\n",
    "\n",
    "minha_lista = filter(lambda v: v[0] != \"\", minha_lista)\n",
    "# print(minha_lista)\n",
    "\n",
    "df = pd.DataFrame(minha_lista)\n",
    "df"
   ]
  },
  {
   "cell_type": "markdown",
   "metadata": {},
   "source": [
    "# ideias \n",
    "\n",
    "\n",
    "## Limpar dados\n",
    "\n",
    "- [ ] tratar dados: [similaridade por cossenos](#similaridade-por-cossenos):\n",
    "    - usar similaridades de uma string com outroas strings e se igualhar, caso proximo, ou se diferencias. \n",
    "        >Ex: lista = ['1.11','2.4','549.00','12.57','6.12','2.75','2..1']\n",
    "        >\n",
    "        >string '2..1' é proximo de '2.4', '1.11' do que uma string  'batata' ou um Nan \n",
    "    - ajuda: scikit learn \n",
    "\n"
   ]
  },
  {
   "cell_type": "markdown",
   "metadata": {},
   "source": [
    "<a id=\"cell2\"></a>\n"
   ]
  },
  {
   "cell_type": "code",
   "execution_count": 3,
   "metadata": {},
   "outputs": [
    {
     "name": "stdout",
     "output_type": "stream",
     "text": [
      "[[0.  0.  0.  0.  0.  0.  0. ]\n",
      " [0.  0.  0.  0.  0.  0.  0. ]\n",
      " [0.  0.  1.  0.  0.  0.  0. ]\n",
      " [0.  0.  0.  1.  0.  0.  0. ]\n",
      " [0.  0.  0.  0.  1.  0.5 0. ]\n",
      " [0.  0.  0.  0.  0.5 1.  0. ]\n",
      " [0.  0.  0.  0.  0.  0.  1. ]]\n",
      "Valor de A: 3\n"
     ]
    }
   ],
   "source": [
    "# similaridade por cosseno\n",
    "\n",
    "from sklearn.feature_extraction.text import CountVectorizer\n",
    "from sklearn.metrics.pairwise import cosine_similarity\n",
    "\n",
    "# Valor de A\n",
    "A = \"2.33\"\n",
    "\n",
    "# Lista de valores\n",
    "valores_lista = [\"3\", \"2.3\", \"2312.42\", \"3123.32\", \"34.00\", \"123.00\"]\n",
    "\n",
    "# Adiciona A à lista para calcular a similaridade\n",
    "valores_lista.append(A)\n",
    "\n",
    "# Converte os valores para uma matriz de contagem de palavras (neste caso, cada valor é tratado como uma \"palavra\")\n",
    "vectorizer = CountVectorizer()\n",
    "X = vectorizer.fit_transform(valores_lista)\n",
    "\n",
    "# Calcula a similaridade de cossenos\n",
    "similaridades = cosine_similarity(X)\n",
    "print(similaridades)\n",
    "\n",
    "# Índice do valor mais similar ao valor de A (último valor na lista)\n",
    "indice_valor_mais_similar = similaridades[-1, :-1].argmax()\n",
    "\n",
    "# Atribui o valor mais similar a A\n",
    "A = valores_lista[indice_valor_mais_similar]\n",
    "\n",
    "print(\"Valor de A:\", A)\n"
   ]
  },
  {
   "cell_type": "code",
   "execution_count": null,
   "metadata": {},
   "outputs": [],
   "source": []
  }
 ],
 "metadata": {
  "kernelspec": {
   "display_name": "Python 3",
   "language": "python",
   "name": "python3"
  },
  "language_info": {
   "codemirror_mode": {
    "name": "ipython",
    "version": 3
   },
   "file_extension": ".py",
   "mimetype": "text/x-python",
   "name": "python",
   "nbconvert_exporter": "python",
   "pygments_lexer": "ipython3",
   "version": "3.10.12"
  }
 },
 "nbformat": 4,
 "nbformat_minor": 2
}
